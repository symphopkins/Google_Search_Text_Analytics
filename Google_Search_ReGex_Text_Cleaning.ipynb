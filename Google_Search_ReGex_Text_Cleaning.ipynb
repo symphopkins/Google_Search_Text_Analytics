{
 "cells": [
  {
   "cell_type": "markdown",
   "id": "02a6449e",
   "metadata": {},
   "source": [
    "# DSCI 614: Project 2\n",
    "\n",
    "### Symphony Hopkins"
   ]
  },
  {
   "cell_type": "markdown",
   "id": "84b50de6",
   "metadata": {},
   "source": [
    "## Introduction\n",
    "\n",
    "We are part of a data scientist team working for the Department of Transportation. We have built a road condition dashboard. Our manager wants us to have more search data. Our manager lets us monitor the Google Search feeds and get the latest 100 searches regarding the weather. We are asked to perform the following tasks.\n"
   ]
  },
  {
   "cell_type": "markdown",
   "id": "1db8d15c",
   "metadata": {},
   "source": [
    "## Step 1: Search Google using the keywords \"Winter snowstorm\". (Please use the sample codes in the attached workbook Google Search extract info (1).ipynb \n",
    "\n",
    "We will begin by importing the necessary libraries."
   ]
  },
  {
   "cell_type": "code",
   "execution_count": 1,
   "id": "ef66fd71",
   "metadata": {},
   "outputs": [],
   "source": [
    "# importing libraries\n",
    "from googlesearch import search\n",
    "import pandas as pd"
   ]
  },
  {
   "cell_type": "markdown",
   "id": "c0a45eac",
   "metadata": {},
   "source": [
    "Now, we will provide the arugments for the search function. We want to use \"Winter snowstorm\" as the query. We also want to return 100 results, including the URL, title, and description. "
   ]
  },
  {
   "cell_type": "code",
   "execution_count": 2,
   "id": "aa57e3ca",
   "metadata": {},
   "outputs": [
    {
     "name": "stdout",
     "output_type": "stream",
     "text": [
      "[SearchResult(url=https://www.nssl.noaa.gov/education/svrwx101/winter/types/, title=Severe Weather 101: Winter Weather Types, description=A winter storm is a combination of heavy snow, blowing snow and/or dangerous wind chills. A winter storm is life-threatening. Blizzards are dangerous winter ...), SearchResult(url=https://www.weather.gov/safety/winter-snow, title=Snow Storm Safety, description=Blizzard: Sustained winds or frequent gusts of 35 mph or more with snow and blowing snow frequently reducing visibility to less than a quarter mile for 3 hours ...), SearchResult(url=https://scied.ucar.edu/learning-zone/storms/winter-storms, title=Winter Storms - UCAR Center for Science Education, description=Snowstorms are one type of winter storm. Blizzards are snowstorms with high winds, and lake effect storms are snowstorms that form near the Great Lakes.), SearchResult(url=https://en.wikipedia.org/wiki/Winter_storm, title=Winter storm, description=A winter storm is an event in which wind coincides with varieties of precipitation that only occur at freezing temperatures, such as snow, mixed snow and ...), SearchResult(url=https://www.ready.gov/winter-weather, title=Winter Weather, description=Winter storms including blizzards can bring extreme cold, freezing rain, snow, ice and high winds. A winter storm can: feature_mini img. Last a few hours or ...), SearchResult(url=https://www.redcross.org/get-help/how-to-prepare-for-emergencies/types-of-emergencies/winter-storm.html, title=Winter Storm Preparedness & Blizzard Safety, description=Winter storms can bring extreme cold, freezing rain, sleet, heavy snowfall, ice, and high winds. These storms can cause transportation, heat, power, ...), SearchResult(url=https://www.cdc.gov/disasters/winter/beforestorm/preparehome.html, title=Preparing for a Winter Storm|Winter Weather, description=Winter storms can bring cold temperatures, power failures, loss of communication services, and icy roads. To keep yourself and your loved ones safe, ...), SearchResult(url=https://weather.com/storms/winter, title=Winter Storm, description=A driving range in Fargo, North Dakota, was hit by a winter storm. Ice accumulated on the nets causing them to come crashing down.), SearchResult(url=https://www.nytimes.com/2023/03/13/us/winter-storm-noreaster-snow-forecast.html, title=Late-Winter Storm Brings Heavy Snow and Rain to the ..., description=Mar 15, 2023 — A major storm dropped more than two feet of snow in portions of northwest Massachusetts and southern Vermont, while some cities only saw ...), SearchResult(url=https://weather.com/storms/winter/news/2023-02-21-winter-storm-olive-why-so-expansive, title=Winter Storm Olive Is A Big Snowstorm. Here's Why., description=Feb 23, 2023 — Winter storms in February are typically widespread. Olive's snowfall could extend continously for 1,600+ miles. That will happen where cold air ...), SearchResult(url=https://www.cnn.com/2023/02/21/weather/winter-storm-us-tuesday/index.html, title=Winter storm set to impact millions stretching from the West ..., description=Feb 21, 2023 — A massive winter storm bringing a mix of heavy snow, rain and gusty winds is poised to lash much of the US West and North this week and has ...), SearchResult(url=https://www.ksdk.com/article/weather/early-march-winter-snowstorm-hitting-st-louis-sunday/63-282219990, title=Early March winter snowstorm hitting St. Louis Sunday, description=Mar 1, 2014 — Forecast of accumulating sleet & snow by Sunday night. weather. Early March winter snowstorm hitting St. Louis Sunday. Major winter storm aiming ...), SearchResult(url=https://www.usatoday.com/story/news/nation/2022/12/19/winter-storm-forecast-christmas-weather-travel/10924147002/, title='Big mess' is days away: Major winter storm to bring snow ..., description=Dec 19, 2022 — Bitterly cold temperatures and a significant winter snowstorm could threaten holiday travel plans for millions across the U.S. from the ...), SearchResult(url=https://www.npr.org/2023/02/21/1158546553/winter-storm-heavy-snow-22-states, title=A huge winter storm is expected to affect millions across 22 ..., description=Feb 21, 2023 — Residents in 22 states are under winter weather alerts this week with a huge storm expected to bring heavy snow and high winds, the National ...), SearchResult(url=https://www.accuweather.com/en/winter-weather/us-snowstorm-to-cause-major-christmas-travel-delays/1386537, title=Pre-Christmas storm threatens major travel delays across US, description=AccuWeather forecasters warn that a major winter storm will bring snow and blizzard conditions to the U.S. in the days leading up to Christmas.), SearchResult(url=https://www.foxweather.com/weather-news/strong-signal-highly-impactful-winter-storm-midwest-northeast-united-states, title=Massive winter storm, expected blizzard will snarl ..., description=Dec 19, 2022 — According to the FOX Forecast Center, blizzard conditions are likely Thursday and Friday. A snowstorm must reach the following criteria to ...), SearchResult(url=https://www.weatherwizkids.com/weather-winter-storms.htm, title=How Winter Storms Form, description=How do blizzards form? A blizzard is a long-lasting snowstorm with very strong winds and intense snowfall. You need three things to have a blizzard; cold air at ...), SearchResult(url=https://www.axios.com/2023/02/22/massive-winter-storm-affects-lower-48-states-blizzard, title=\"Massive\" winter storm to impact entire Lower 48, description=Feb 23, 2023 — The Twin Cities were forecast to see one of their biggest snowstorms on record, with travel becoming difficult to impossible Wednesday ...), SearchResult(url=https://glenallenweather.com/alink/18snow/stormtypes.htm, title=CLASSIFICATION OF WINTER SNOWSTORMS, description=Mid-Atlantic Winter Storm Patterns. Miller A type snowstorm. This type of snowstorm has a low which originates in the Gulf; it intensifies and races up the ...), SearchResult(url=https://magazine.northeast.aaa.com/daily/life/lifestyle/the-worst-snowstorms-in-united-states-history/, title=The Worst Snowstorms in United States History, description=You probably even have a memory of your own worst snowstorm – when the snow piled ... The December 2022 North American Winter Storm was a bomb cyclone that ...), SearchResult(url=https://www.jsonline.com/story/weather/2022/12/20/wisconsin-weather-winter-storm-snow-totals-uncertain-but-blizzard-conditions-possible/69743271007/, title=Wisconsin snowstorm weather forecast, blizzard possible ..., description=Dec 20, 2022 — A winter storm warning for Milwaukee County and its surrounding areas took effect 9 a.m. Thursday and is set to stretch to 6 a.m. Saturday.), SearchResult(url=https://www.mtpeter.com/winter-snowstorm-wish/, title=Winter Snowstorm Wish, description=Winter Snowstorm Wish. Winter Storm Wish. I know that I am not alone when I fire up my computer in the morning and feel instantly overwhelmed.), SearchResult(url=https://pixabay.com/images/search/snowstorm/, title=100+ Free Snowstorm & Blizzard Images, description=Snowstorm photos for download. All pictures are free to use. Royalty-free images. Free Winter Girl illustration and picture.), SearchResult(url=https://www.nbcnews.com/news/weather/states-emergency-declared-southeast-ahead-winter-snowstorm-rcna12353, title=States of emergency declared in Southeast ahead of winter ..., description=Jan 15, 2022 — States of emergency declared in Southeast ahead of winter snowstorm. Some 64 million Americans are under some type of weather alert.), SearchResult(url=https://stormhighway.com/thundersnow.php, title=Can lightning occur in the winter or when it is snowing?, description=Strong winter snowstorms and blizzards commonly produce lightning strikes, a phenomenon referred to as 'thundersnow'. Lightning and thunder can occur with ...), SearchResult(url=https://www.cbsnews.com/boston/news/blizzard-2022-snow-storm-boston-weather-forecast-winter-weekend-noreaster-bombogenesis-saturday-massachusetts-wbz/, title=Blizzard Of 2022 Leaves More Than 2 Feet Of Snow In ..., description=Jan 29, 2022 — This is now the seventh biggest snowstorm of all time in Boston's ... This winter has been absolutely crazy - 97% of the total snowfall for ...), SearchResult(url=https://www.space.com/winter-noreaster-storm-satellite-views-december-2020, title=Satellite tracks intense winter snowstorm across US East ..., description=Dec 17, 2020 — Satellites in orbit have captured stunning views of the powerful Nor'easter that dropped snow on a wide swath of the U.S. Northeast on ...), SearchResult(url=https://www.schellsbrewery.com/our-beers/snowstorm/, title=Snowstorm, description=Back in the olden days, it was no small feat to take our beer by wagon to the local establishments, especially in the dead of winter. We had to find inventive ...), SearchResult(url=https://www.yahoo.com/lifestyle/winter-snowstorm-hits-northern-arizona-232505083.html, title=Winter snowstorm hits northern Arizona, description=Mar 1, 2023 — Flagstaff was hit with several inches of snow on March 1, 2023, just a week after another storm dumped snow on the northern Arizona town.), SearchResult(url=https://www.directenergy.com/learning-center/snow-storm-essentials-checklist, title=Snow Storm Essentials Checklist: How to Stock Up, description=Stock up on these winter essentials so you're prepared for a snowstorm before it hits.), SearchResult(url=https://www.wunderground.com/article/storms/winter/news/2023-02-20-winter-storm-olive-blizzard-ice-forecast-plains-midwest-northeast, title=Winter Storm Olive's Cross-Country Trek Will Pack Blizzard ..., description=O​live could be one of the heaviest snowstorms in years for parts of the upper Midwest, including Minneapolis-St. Paul, where the National Weather Service ...), SearchResult(url=https://www.wsj.com/articles/winter-snowstorm-aftermath-a-sunday-digging-out-11643556388, title=Winter Snowstorm Aftermath: 'This Will Be One That People ..., description=Jan 30, 2022 — Thousands of power outages were reported in Massachusetts in the wake of a winter storm that dumped snow across the East Coast.), SearchResult(url=https://www.texastribune.org/series/winter-storm-power-outage/, title=Winter Storm 2021 - Texas power outage, description=As Texas faced record-low temperatures in February 2021 and snow and ice made roads impassable, the state's electric grid operator lost control of the power ...), SearchResult(url=https://www.mprnews.org/story/2021/01/13/a-winter-storm-targets-minnesota-with-over-6-inches-of-snow, title=Winter snowstorm targets Minnesota; 6-plus inches possible, description=Jan 13, 2021 — Winter snowstorm targets Minnesota; 6-plus inches possible. A warm, mostly quiet day Wednesday before rain, snow, and ice move in.), SearchResult(url=https://longisland.news12.com/long-islands-winter-snowstorm-season-is-just-beginning, title=Long Island's winter snowstorm season is just beginning, description=Jan 13, 2023 — We're halfway through meteorological winter, but it feels like it hasn't even started. Temperatures soared to 65 degrees in Islip on Jan.), SearchResult(url=https://www.wzzm13.com/article/weather/friday-snowstorm-likely-for-west-michigan/69-75f3a8c2-43b6-497c-be93-fda18af53b1f, title=Another Friday Snowstorm Likely across West Michigan, description=Mar 7, 2023 — Winter Weather Impacts for March 9-10, 2023. Weather. Snowstorm likely for West Michigan this Friday. Heavy, wet snow is likely Thursday ...), SearchResult(url=https://www.washingtonpost.com/climate-environment/2022/11/15/storm-snow-chicago-buffalo-weather/, title=It's not winter yet, but Midwest snowstorm is headed toward ..., description=Nov 15, 2022 — It's not winter yet, but Midwest snowstorm is headed toward Northeast. Areas near Buffalo could see 'multiple feet' from lake-effect snows late ...), SearchResult(url=https://www.theguardian.com/us-news/2023/feb/24/california-snow-los-angeles-san-francisco-bay-area, title='Strongest snowstorm in years' leaves Californians ..., description=Feb 25, 2023 — Snow is seen on the hills around the San Francisco Bay area as a strong ...), SearchResult(url=https://www.letsmakeart.com/pages/winter-snowstorm-project, title=Winter Snowstorm Project, description=Winter Snowstorm Project. First thing you need to know about this project is that it's super loose! Fine details are not our main concern this time - just ...), SearchResult(url=https://littlebinsforlittlehands.com/winter-snow-storm-in-a-jar-science/, title=Snow Storm In a Jar, description=Jan 16, 2023 — Fun and easy winter science activities for kids to try! ... Kids will love creating their own snowstorms with common household supplies, ...), SearchResult(url=https://ready.dc.gov/winterwx, title=Extreme Cold and Snowstorms | readydc - DC.gov, description=Winter storms may include high wind, freezing rain, heavy snowfall, and extreme cold. Severe winter storms can cause blocked roads, power outages, ...), SearchResult(url=https://www.nbcconnecticut.com/weather-news/stories/winter-snowstorm-hits-shoreline-communities/2984364/, title=Winter Snowstorm Hits Shoreline Communities, description=Feb 27, 2023 — NBC Universal, Inc. People across the state are preparing for the incoming snowstorm. Several inches of snow is expected to fall overnight.), SearchResult(url=https://www.smu.edu/News/Research/Cell-phone-data-from-winter-snowstorm-shows-Dallas-is-resilient, title=Cell phone data from winter snowstorm shows Dallas is ..., description=Cell phone data from winter snowstorm shows Dallas is resilient. May 23, 2023. GPS locations of anonymous cell-phone users (IDs) in the greater Dallas ...), SearchResult(url=https://www.newsweek.com/blizzard-warning-nws-colorado-denver-snow-storm-1391864, title=Blizzard Weather Warning: Colorado Braces for 'Major' ..., description=Apr 10, 2019 — The National Weather Service forecast map shows the path of the major winter snowstorm about to hit central U.S. states. NWS.), SearchResult(url=https://www.nationalgeographic.org/encyclopedia/blizzard/, title=Blizzard, description=May 19, 2022 — Blizzards are not just bad snowstorms; they are specific types of ... as typical winter weather, a snowstorm, or a severe blizzard.), SearchResult(url=https://www.eastidahonews.com/2021/01/winter-snowstorm-headed-to-eastern-idaho-wednesday/, title=Winter snowstorm headed to eastern Idaho Wednesday, description=Jan 25, 2021 — IDAHO FALLS – A winter storm is headed towards eastern Idaho Wednesday morning. The National Weather Service in Pocatello is forecasting ...), SearchResult(url=https://www.scemd.org/prepare/types-of-disasters/severe-winter-weather/, title=Severe Winter Weather, description=... normally experience mild winters can be hit with a major snowstorm or extreme cold. Winter storms can result in flooding, storm surge, closed highways, ...), SearchResult(url=https://earthsky.org/earth/pacific-winter-snowstorm-late-feb-2023/, title=Another Pacific winter snowstorm hits California, description=Feb 22, 2023 — Pacific winter snowstorm this week. In a year when snowfall in California has already exceeded yearly totals, a Pacific winter storm has the ...), SearchResult(url=https://www.bbc.com/news/world-us-canada-64111839, title=US winter storm death toll rises as bad weather drags on, description=Dec 28, 2022 — A powerful winter storm that slammed North America has claimed more lives in the US state of New York, local officials say.), SearchResult(url=https://www.ametsoc.org/ams/index.cfm/education-careers/education-program/k-12-teachers/project-atmosphere/training-opportunities/project-atmosphere-peer-led-training/project-atmosphere-peer-training-resources/hzwx-winter-storms-activity1/, title=Activity: Major Winter Snowstorm, description=Two smaller snowstorms followed the Blizzard and finally rain and milder weather in later January led to severe flooding in New York, Pennsylvania and Maryland.), SearchResult(url=https://ksltv.com/457498/winter-snowstorm-closes-roads-in-wyoming-colorado-nebraska/, title=Winter Snowstorm Closes Roads In Wyoming, Colorado, ..., description=Mar 14, 2021 — A powerful late winter snowstorm intensified over the central Rocky Mountains on Sunday with heavy snow and wind leading to airport and road ...), SearchResult(url=https://www.nationalgeographic.com/environment/article/thundersnow-lightning-winter-weather-phenomenon, title=The mystery behind thundersnow, a rare winter phenomenon, description=Jan 6, 2023 — Though thunder and lightning in a snowstorm is a predictor of heavy snowfall, researchers have recently learned heavy snowfall is not a ...), SearchResult(url=https://www.therepublic.com/2023/01/25/predicted-winter-snowstorm-fizzles-out-into-a-slushy-wintry-mix-mess/, title=Predicted winter snowstorm fizzles out into a slushy wintry ..., description=Jan 25, 2023 — — A winter storm that was forecast to drop more than 3 inches of snow on Columbus Wednesday fizzled out into a slushy mess of rain and freezing ...), SearchResult(url=https://thestarryeye.typepad.com/weather/2014/11/each-winters-snowstorms-1970-2014.html, title=Recap of Each Winter's Snowstorms in New York (1950, description=This was the third major snowstorm of the winter. However, those storms were characterized by very cold temperatures while this storm saw temperatures rise from ...), SearchResult(url=https://www.artfulhome.com/product/Art-Glass-Vase/Winter-Snowstorm/161185, title=Winter Snowstorm - Art Glass Vase, description=Discover Winter Snowstorm by Orient & Flume Art Glass, and get inspired by more original art and unique treasures created by artists. Shop now!), SearchResult(url=https://www.sltrib.com/news/2023/02/22/major-snowstorm-buries-utah-when/, title=Major snowstorm buries Utah: Snow totals, photos and ..., description=Feb 22, 2023 — A winter storm warning remains in effect until 11 p.m., with additional accumulations of 4-9 inches possible in the Salt Lake Valley, along with ...), SearchResult(url=https://newsnetwork.mayoclinic.org/discussion/keep-safe-during-a-major-winter-snowstorm/, title=Keep Safe During a Major Winter Snowstorm, description=Jan 22, 2016 — Keep Safe During a Major Winter Snowstorm ... Hospital emergency departments see an influx of weather-related injuries with each snowstorm.), SearchResult(url=https://www.fox5ny.com/weather/super-bowl-weekend-winter-snowstorm-in-ny, title=Super Bowl weekend winter snowstorm in NY?, description=Feb 10, 2022 — A winter storm is potentially going to target the East Coast over the weekend and linger into Monday. Weather forecasting models are coming ...), SearchResult(url=https://newengland.com/yankee/history/worst-snowstorms-in-new-england-history/, title=Worst Snowstorms in New England History, description=In fact, U.S. meteorologists' efforts to measure the intensity of winter storms — as we do with earthquakes and hurricanes — began in 2006 with the Northeast ...), SearchResult(url=https://www.clickondetroit.com/weather/2023/03/09/snowmaker-sends-metro-detroit-under-winter-weather-advisory-thursday-night-friday/, title=Incoming snowstorm sends Metro Detroit under winter ..., description=Mar 9, 2023 — A winter weather advisory has been issued for Metro Detroit Thursday night and Friday due to an approaching storm that could leave behind ...), SearchResult(url=https://www.dnr.state.mn.us/climate/journal/top_twenty_snowfalls.html, title=Top 25 Snowfalls in the Twin Cities: 1884-2023, description=Below, we have listed the 25 largest snowfall events (or \"snowstorms\") on record in ... which is common with large winter storms, as surges of moisture and ...), SearchResult(url=https://www.irs.gov/newsroom/irs-announces-tax-relief-for-victims-of-severe-winter-storm-and-snowstorm-in-new-york, title=IRS announces tax relief for victims of severe winter storm ..., description=NY-2023-04, March 24, 2023 — Victims of the severe winter storm and snowstorm beginning Dec. 23, 2022, and ending Dec. 28, 2022, now have until May 15, ...), SearchResult(url=https://www.ctinsider.com/news/article/winter-snowstorm-ct-parking-bans-school-closings-17809019.php, title=Winter snowstorm CT: School closures, parking bans, description=Feb 27, 2023 — Winter snowstorm CT: School closures, parking bans and municipal ... According to the National Weather Service, a winter storm warning has ...), SearchResult(url=https://www.foxnews.com/us/winter-snowstorm-forecast-plains-eastern-us, title=Winter snowstorm forecast to move over Plains, much of ..., description=Jan 13, 2022 — A major winter storm will start its trek across the Plains states, dive across the Mid-South and then swoop up into the Mid-Atlantic and the ...), SearchResult(url=https://turnto10.com/news/local/winter-storm-snow-snowstorm-southern-new-england-rhode-island-massachusetts-february-28-2023, title=Southern New Englanders take late winter snowstorm in ..., description=Feb 28, 2023 — Southern New Englanders take late winter snowstorm in stride. by ALLEGRA ZAMORE, NBC 10 NEWS. Tue, February 28th 2023, 10:55 AM PST.), SearchResult(url=https://www.indystar.com/story/news/2022/12/20/indiana-snow-storm-how-much-show-indianapolis-weather-forecast/69744075007/, title=Snow prediction Indiana: Weather models show how much ..., description=Dec 20, 2022 — Indiana snowstorm:When will my road be plowed in Indianapolis? ... “We have a major winter storm intensifying rapidly as it crosses Indiana ...), SearchResult(url=https://www.wxow.com/weather/forecast/a-slight-chance-of-snow-monday-before-a-winter-snowstorm-brings-lots-of-snow-to/article_2583ba3e-b0af-11ed-815a-dbd8c6572dfd.html, title=A slight chance of snow Monday before a winter snowstorm ..., description=Feb 19, 2023 — This is due to a pretty sizable snowstorm entering Western Wisconsin. A Winter Storm Watch is in effect starting Tuesday at 6 PM, ...), SearchResult(url=https://www.voanews.com/a/downgraded-storm-in-us-northeast-affects-millions/2614998.html, title=Snowstorm Sweeps Northeastern US, description=Jan 27, 2015 — A powerful winter storm dropped as much as 60 centimeters (almost 2 feet) of snow in some parts of the northeastern U.S. on Monday and ...), SearchResult(url=https://www.thesaurus.com/browse/snowstorm, title=25 Synonyms & Antonyms for SNOWSTORM, description=There he and Old Man Winter sit and smoke, and lay their plans for the next snowstorm. ... The Pilgrims now continued their explorations in the midst of a driving ...), SearchResult(url=https://www.upi.com/Top_News/US/2022/01/29/winter-blizzard-northeast/1771643461309/, title=Winter snowstorm hits Northeast, causing power outages ... - UPI, description=Jan 29, 2022 — A winter snowstorm hit the U.S. Northeast on Saturday morning, causing power outages in the region and forcing the cancellation of thousands ...), SearchResult(url=https://www.cincinnati.com/picture-gallery/news/2022/12/23/photos-winter-snowstorm-hits-cincinnati/10948027002/, title=PHOTOS: Winter snowstorm hits Cincinnati, description=Dec 23, 2022 — Winter storm brings snow, frigid temperatures and hazardous road ... PHOTOS: Winter snowstorm hits Cincinnati, bringing wind chills near ...), SearchResult(url=https://wyomingtruth.org/wyoming-slammed-with-late-winter-snowstorm-roads-closed-across-state/, title=Wyoming Slammed With Late Winter Snowstorm, Roads ..., description=Feb 23, 2023 — Wyoming Slammed With Late Winter Snowstorm, Roads Closed Across State. Snowfall totals ranged from several inches to two feet.), SearchResult(url=https://www.genoahealthcare.com/genoa-pharmacist-faces-winter-snowstorm-to-deliver-consumers-medications/, title=Genoa Pharmacist faces winter snowstorm to deliver ..., description=Mar 8, 2023 — When Watertown, New York, Pharmacist Meredith Sullivan made the call to close her pharmacy in preparation for an incoming snowstorm on ...), SearchResult(url=https://nbcmontana.com/news/nation-world/historic-winter-snowstorm-turns-deadly-in-oregon-freezing-temperatures-persist-ice-winter-weather-cold-frigid-death-dies-first-responders-pediatric-cardiac-emergency-medical-care, title=Historic winter snowstorm turns deadly in Oregon, freezing ..., description=Historic winter snowstorm turns deadly in Oregon, freezing temperatures persist. by KATU Staff. Thu, February 23rd 2023, 3:58 PM PST. UserWay icon for ...), SearchResult(url=https://www.the-journal.com/articles/winter-snowstorm/, title=Winter snowstorm - The Journal, description=Jan 19, 2021 — A winter snow storm moved through the area on Tuesday leaving Durango under a blanket of snow.), SearchResult(url=https://www.nationalgridus.com/News/2023/02/National-Grid-Preparing-for-Winter-Snowstorm-to-Impact-Massachusetts-/, title=National Grid Preparing for Winter Snowstorm to Impact ..., description=Feb 27, 2023 — WALTHAM, MA – National Grid is preparing for a winter snowstorm to impact Massachusetts Monday evening through Tuesday, ...), SearchResult(url=https://offtheshelf.com/2021/12/winter-thrillers/, title=10 Thrillers as Piercing as a Winter Snowstorm, description=Dec 28, 2021 — Any one of these spine-tingling thrillers will pierce you with the same amount of shock and wonder as a marvelous winter snowstorm.), SearchResult(url=https://www.newswise.com/articles/cell-phone-gps-data-from-february-2021-winter-snowstorm-shows-people-of-dallas-are-resilient, title=Cell phone data from winter snowstorm shows Dallas is ..., description=May 23, 2023 — Natural disasters can wreak havoc on a city, from hurricanes in Houston to winter storms in Dallas. Measuring resilience -- the length of ...), SearchResult(url=https://portal.ct.gov/DESPP/Press-Releases/2011/State-Police-Prepare-for-Next-Winter-Snowstorm, title=State Police Prepare for Next Winter Snowstorm, description=STATE POLICE PREPARE FOR NEXT WINTER SNOWSTORM The weather service is again forecasting a possible snow storm in Connecticut Tuesday night into Wednesday ...), SearchResult(url=https://www.argusleader.com/story/news/2021/12/08/sioux-falls-weather-nws-winter-storm-watch-snow-expected/6440357001/, title=NWS: Winter snowstorm expected in Sioux Falls on Friday, description=Dec 8, 2021 — Because of the pending snowstorm, NWS has placed Sioux Falls and parts of south-central South Dakota under a winter storm watch for Friday.), SearchResult(url=http://www.thehamtramckreview.com/despite-a-winter-snowstorm-paczki-runners-stay-on-track/, title=Despite a winter snowstorm, paczki runners stay on track, description=By Charles Sercombe For several minutes it appeared participants in this year's 5K Paczki Run were going to get lost in a winter whiteout.), SearchResult(url=https://www.fox6now.com/weather/bitter-cold-wisconsin-winter-snowstorm, title=Bitter cold headed for Wisconsin; winter snowstorm totals ..., description=Jan 29, 2023 — The snow from a winter storm has moved out, and now southeast Wisconsin needs to brace for bitter cold.), SearchResult(url=https://phys.org/news/2023-05-cell-winter-snowstorm-dallas-resilient.html, title=Cell phone data from winter snowstorm shows Dallas is ..., description=May 23, 2023 — From hurricanes in Houston to winter storms in Dallas, natural disasters can wreak havoc on a city. In any of these situations, ...), SearchResult(url=https://thekidshouldseethis.com/post/winter-snowstorm-jonas-a-time-lapse-in-manhattan, title=Winter Snowstorm Jonas, a time lapse in Manhattan, description=Jan 24, 2016 — From a window looking down upon the Upper East Side of Manhattan, watch snow accumulate in a time lapse made during winter storm Jonas, ...), SearchResult(url=https://www.fema.gov/sites/default/files/2020-09/PDAReportFEMA4264DRNJ.pdf, title=Severe Winter Storm and Snowstorm FEMA-4264-DR ..., description=On February 11, 2016, Governor Chris Christie requested a major disaster declaration due to a severe winter storm and snowstorm during the period of January ...), SearchResult(url=https://clipart-library.com/winter-snowstorm-cliparts.html, title=Collection of Winter Snowstorm Cliparts (40), description=Clipart library offers about 40 high-quality Winter Snowstorm Cliparts for free! Download Winter Snowstorm Cliparts and use any clip art,coloring,png ...), SearchResult(url=https://www.civicplus.com/blog/crm/four-reasons-a-311-crm-solution-is-your-best-defense-against-a-winter-snowstorm, title=Benefits of a 311 CRM Solution for Winter Snowstorms, description=Learn why 311 CRM solutions are invaluable in addressing resident requests and triaging responses during winter storms.), SearchResult(url=https://dailyillini.com/news-stories/campus-life/2022/02/01/ui-moves-classes-online-due-to-winter-snowstorm/, title=UI moves classes online due to winter snowstorm, description=Feb 1, 2022 — The National Weather Service issued a notice that Champaign County will experience a winter storm with winds of up to 35 mph and an expected ...), SearchResult(url=https://www.motortrend.com/reviews/2022-rivian-r1t-yearlong-review-update-5-winter-storm/, title=Rivian R1T Yearlong Review: Winter Snowstorms Tire Out ..., description=Feb 21, 2023 — As it happened, a major snowstorm rolled in, turning a simple weekend getaway into an ordeal. What follows is his account of the R1T's winter ...), SearchResult(url=https://thebrownandwhite.com/2018/03/07/snowstorm-lehigh-close/, title=Lehigh closes for third winter snowstorm, description=Mar 7, 2018 — Third winter snowstorm causes Lehigh shutdown ... At 5:22 a.m., an LU-ALERT announced Lehigh would be closed all day Wednesday, dismissing all non ...), SearchResult(url=https://espo.nasa.gov/impacts/content/IMPACTS, title=IMPACTS - ESPO - NASA, description=Winter snowstorms are frequent on the eastern seaboard and cause major ... and Precipitation for Atlantic Coast-Threatening Snowstorms (IMPACTS) will fly a ...), SearchResult(url=https://www.kansas.com/news/local/article270330602.html, title=Here is how the rare winter snowstorm affected Wichita area, description=Dec 22, 2022 — Kansas saw a rare combination of factors in a snowstorm that hit Thursday morning, leading the Wichita area to be put under a snow squall ...), SearchResult(url=https://www.civicplus.com/blog/crm/four-reasons-a-311-crm-solution-is-your-best-defense-against-a-winter-snowstorm, title=Benefits of a 311 CRM Solution for Winter Snowstorms, description=Learn why 311 CRM solutions are invaluable in addressing resident requests and triaging responses during winter storms.), SearchResult(url=https://dailyillini.com/news-stories/campus-life/2022/02/01/ui-moves-classes-online-due-to-winter-snowstorm/, title=UI moves classes online due to winter snowstorm, description=Feb 1, 2022 — The National Weather Service issued a notice that Champaign County will experience a winter storm with winds of up to 35 mph and an expected ...), SearchResult(url=https://www.motortrend.com/reviews/2022-rivian-r1t-yearlong-review-update-5-winter-storm/, title=Rivian R1T Yearlong Review: Winter Snowstorms Tire Out ..., description=Feb 21, 2023 — As it happened, a major snowstorm rolled in, turning a simple weekend getaway into an ordeal. What follows is his account of the R1T's winter ...), SearchResult(url=https://thebrownandwhite.com/2018/03/07/snowstorm-lehigh-close/, title=Lehigh closes for third winter snowstorm, description=Mar 7, 2018 — Third winter snowstorm causes Lehigh shutdown ... At 5:22 a.m., an LU-ALERT announced Lehigh would be closed all day Wednesday, dismissing all non ...), SearchResult(url=https://espo.nasa.gov/impacts/content/IMPACTS, title=IMPACTS - ESPO - NASA, description=Winter snowstorms are frequent on the eastern seaboard and cause major ... and Precipitation for Atlantic Coast-Threatening Snowstorms (IMPACTS) will fly a ...), SearchResult(url=https://www.kansas.com/news/local/article270330602.html, title=Here is how the rare winter snowstorm affected Wichita area, description=Dec 22, 2022 — Kansas saw a rare combination of factors in a snowstorm that hit Thursday morning, leading the Wichita area to be put under a snow squall ...), SearchResult(url=https://modernsurvivalblog.com/natural-disaster/basic-supplies-for-a-winter-snow-storm-power-outage/, title=Preparing for a Winter Snowstorm - Basic Supplies ..., description=Jan 17, 2022 — Basic supplies to have for Survival Mode during a winter snowstorm power outage that may last days or even weeks...)]\n"
     ]
    }
   ],
   "source": [
    "#providing the query for the search\n",
    "query = \"Winter snowstorm\"\n",
    "\n",
    "#returning 100 results, including the URL, title, and description \n",
    "results = list(search(query, num_results=99, sleep_interval=5, lang=\"en\",advanced=True))\n",
    "\n",
    "#printing results\n",
    "print(results)"
   ]
  },
  {
   "cell_type": "markdown",
   "id": "eb545d39",
   "metadata": {},
   "source": [
    "## Step 2: Extract the lasted 100 results, including the URL, title, and description. (If you get an error message of “429 Client Error: Too Many Requests for url:” . You can try smaller num_results such as 80 or 50 or 20 or 10  instead of 100.)"
   ]
  },
  {
   "cell_type": "markdown",
   "id": "953773c6",
   "metadata": {},
   "source": [
    "Before we can extract the information, we need to convert the SearchResult objects to a list of strings."
   ]
  },
  {
   "cell_type": "code",
   "execution_count": 3,
   "id": "17175633",
   "metadata": {},
   "outputs": [],
   "source": [
    "results = [str(item) for item in results]"
   ]
  },
  {
   "cell_type": "markdown",
   "id": "44e06a7c",
   "metadata": {},
   "source": [
    "Now, we can create a for loop and extract the information from the results. After extracting the URL, title, and description from each result, we will store it in a dictionary."
   ]
  },
  {
   "cell_type": "code",
   "execution_count": 4,
   "id": "d2479f91",
   "metadata": {},
   "outputs": [],
   "source": [
    "data =[]\n",
    "for result in results:\n",
    "    #extracting the URL, title, and description using string manipulation\n",
    "    url = result.split(\"url=\")[1].split(\",\")[0]\n",
    "    title = result.split(\"title=\")[1].split(\",\")[0]\n",
    "    description = result.split(\"description=\")[1].split(\")\")[0]\n",
    "    \n",
    "    #creating a dictionary for each SearchResult\n",
    "    result_dict = {\n",
    "        'URL': url,\n",
    "        'Title': title,\n",
    "        'Description': description\n",
    "    }\n",
    "    \n",
    "    #appending the dictionary to the data list\n",
    "    data.append(result_dict)"
   ]
  },
  {
   "cell_type": "markdown",
   "id": "efbd22b3",
   "metadata": {},
   "source": [
    "## Step 3: Concatenate the URL, title, and description and obtain a new column of search_result.\n"
   ]
  },
  {
   "cell_type": "markdown",
   "id": "bb3723b7",
   "metadata": {},
   "source": [
    "Now, we will save the results in a dataframe, and concatenate the URL, title, and description to obtain a new column named \"search_results\"."
   ]
  },
  {
   "cell_type": "code",
   "execution_count": 5,
   "id": "f8307dd4",
   "metadata": {
    "scrolled": true
   },
   "outputs": [
    {
     "data": {
      "text/html": [
       "<div>\n",
       "<style scoped>\n",
       "    .dataframe tbody tr th:only-of-type {\n",
       "        vertical-align: middle;\n",
       "    }\n",
       "\n",
       "    .dataframe tbody tr th {\n",
       "        vertical-align: top;\n",
       "    }\n",
       "\n",
       "    .dataframe thead th {\n",
       "        text-align: right;\n",
       "    }\n",
       "</style>\n",
       "<table border=\"1\" class=\"dataframe\">\n",
       "  <thead>\n",
       "    <tr style=\"text-align: right;\">\n",
       "      <th></th>\n",
       "      <th>URL</th>\n",
       "      <th>Title</th>\n",
       "      <th>Description</th>\n",
       "      <th>search_result</th>\n",
       "    </tr>\n",
       "  </thead>\n",
       "  <tbody>\n",
       "    <tr>\n",
       "      <th>0</th>\n",
       "      <td>https://www.nssl.noaa.gov/education/svrwx101/w...</td>\n",
       "      <td>Severe Weather 101: Winter Weather Types</td>\n",
       "      <td>A winter storm is a combination of heavy snow,...</td>\n",
       "      <td>https://www.nssl.noaa.gov/education/svrwx101/w...</td>\n",
       "    </tr>\n",
       "    <tr>\n",
       "      <th>1</th>\n",
       "      <td>https://www.weather.gov/safety/winter-snow</td>\n",
       "      <td>Snow Storm Safety</td>\n",
       "      <td>Blizzard: Sustained winds or frequent gusts of...</td>\n",
       "      <td>https://www.weather.gov/safety/winter-snow Sno...</td>\n",
       "    </tr>\n",
       "    <tr>\n",
       "      <th>2</th>\n",
       "      <td>https://scied.ucar.edu/learning-zone/storms/wi...</td>\n",
       "      <td>Winter Storms - UCAR Center for Science Education</td>\n",
       "      <td>Snowstorms are one type of winter storm. Blizz...</td>\n",
       "      <td>https://scied.ucar.edu/learning-zone/storms/wi...</td>\n",
       "    </tr>\n",
       "    <tr>\n",
       "      <th>3</th>\n",
       "      <td>https://en.wikipedia.org/wiki/Winter_storm</td>\n",
       "      <td>Winter storm</td>\n",
       "      <td>A winter storm is an event in which wind coinc...</td>\n",
       "      <td>https://en.wikipedia.org/wiki/Winter_storm Win...</td>\n",
       "    </tr>\n",
       "    <tr>\n",
       "      <th>4</th>\n",
       "      <td>https://www.ready.gov/winter-weather</td>\n",
       "      <td>Winter Weather</td>\n",
       "      <td>Winter storms including blizzards can bring ex...</td>\n",
       "      <td>https://www.ready.gov/winter-weather Winter We...</td>\n",
       "    </tr>\n",
       "  </tbody>\n",
       "</table>\n",
       "</div>"
      ],
      "text/plain": [
       "                                                 URL  \\\n",
       "0  https://www.nssl.noaa.gov/education/svrwx101/w...   \n",
       "1         https://www.weather.gov/safety/winter-snow   \n",
       "2  https://scied.ucar.edu/learning-zone/storms/wi...   \n",
       "3         https://en.wikipedia.org/wiki/Winter_storm   \n",
       "4               https://www.ready.gov/winter-weather   \n",
       "\n",
       "                                               Title  \\\n",
       "0           Severe Weather 101: Winter Weather Types   \n",
       "1                                  Snow Storm Safety   \n",
       "2  Winter Storms - UCAR Center for Science Education   \n",
       "3                                       Winter storm   \n",
       "4                                     Winter Weather   \n",
       "\n",
       "                                         Description  \\\n",
       "0  A winter storm is a combination of heavy snow,...   \n",
       "1  Blizzard: Sustained winds or frequent gusts of...   \n",
       "2  Snowstorms are one type of winter storm. Blizz...   \n",
       "3  A winter storm is an event in which wind coinc...   \n",
       "4  Winter storms including blizzards can bring ex...   \n",
       "\n",
       "                                       search_result  \n",
       "0  https://www.nssl.noaa.gov/education/svrwx101/w...  \n",
       "1  https://www.weather.gov/safety/winter-snow Sno...  \n",
       "2  https://scied.ucar.edu/learning-zone/storms/wi...  \n",
       "3  https://en.wikipedia.org/wiki/Winter_storm Win...  \n",
       "4  https://www.ready.gov/winter-weather Winter We...  "
      ]
     },
     "execution_count": 5,
     "metadata": {},
     "output_type": "execute_result"
    }
   ],
   "source": [
    "#creating the dataframe\n",
    "df = pd.DataFrame(data)\n",
    "\n",
    "#merging URL, title, and description columns\n",
    "df['search_result'] = df['URL'] + ' ' + df['Title'] + ' ' + df['Description']\n",
    "\n",
    "#displaying results\n",
    "df.head()"
   ]
  },
  {
   "cell_type": "markdown",
   "id": "63c373fc",
   "metadata": {},
   "source": [
    "Since steps 4-8 focus on modifying the search_result column, we will create a copy of the column before modification so we can compare the differences at the end."
   ]
  },
  {
   "cell_type": "code",
   "execution_count": 6,
   "id": "cfebdcb0",
   "metadata": {},
   "outputs": [],
   "source": [
    "#creating column copy\n",
    "search_result_before = df['search_result'].copy()"
   ]
  },
  {
   "cell_type": "markdown",
   "id": "f49058fe",
   "metadata": {},
   "source": [
    "## Step 4: Remove the date and time in the search_result using a regular expression."
   ]
  },
  {
   "cell_type": "markdown",
   "id": "5d738855",
   "metadata": {},
   "source": [
    "We are going to use regular expression (regex) to remove date and time from our new column. Date and time can be displayed in various formats. To make matters simple, we will only focus on removing these specific formats:\n",
    "* Date: Month D, Yr (Sept 07, 2023)\n",
    "* Time: HH:MM XM (10:08 PM)\n",
    "\n",
    "We will begin by importing the regex library."
   ]
  },
  {
   "cell_type": "code",
   "execution_count": 7,
   "id": "5e44f6c1",
   "metadata": {},
   "outputs": [],
   "source": [
    "#importing library\n",
    "import re"
   ]
  },
  {
   "cell_type": "markdown",
   "id": "3efcb79d",
   "metadata": {},
   "source": [
    "Now we can remove the date and time using regex."
   ]
  },
  {
   "cell_type": "code",
   "execution_count": 8,
   "id": "610d6d1a",
   "metadata": {},
   "outputs": [
    {
     "data": {
      "text/plain": [
       "0    https://www.nssl.noaa.gov/education/svrwx101/w...\n",
       "1    https://www.weather.gov/safety/winter-snow Sno...\n",
       "2    https://scied.ucar.edu/learning-zone/storms/wi...\n",
       "3    https://en.wikipedia.org/wiki/Winter_storm Win...\n",
       "4    https://www.ready.gov/winter-weather Winter We...\n",
       "Name: search_result, dtype: object"
      ]
     },
     "execution_count": 8,
     "metadata": {},
     "output_type": "execute_result"
    }
   ],
   "source": [
    "#defining regex pattern\n",
    "#[A-Za-z]+ character set that matches upper/lowercase letter (A-Z and a-z) one or more times\n",
    "#\\s matches white space\n",
    "#\\d{number} matches number of digits\n",
    "# , matches the comma\n",
    "# | acts as OR operator\n",
    "# : matches colon\n",
    "#[APap][Mm] matches AM, PM, am, pm\n",
    "dt_tm_pattern = r\"[A-Za-z]+\\s\\d{1,2},\\s\\d{4}|\\d{1,2}:\\d{2} [APap][Mm]\"\n",
    "\n",
    "#creating empty list to save modified strings\n",
    "mod_col = []\n",
    "\n",
    "#removing pattern\n",
    "for i in range(len(df['search_result'])):\n",
    "    mod_str = re.sub(dt_tm_pattern, '', df['search_result'][i])\n",
    "    mod_col.append(mod_str)\n",
    "    \n",
    "#replacing the column values with the modified values \n",
    "df['search_result'] = mod_col\n",
    "\n",
    "#displaying results\n",
    "df['search_result'].head()"
   ]
  },
  {
   "cell_type": "markdown",
   "id": "5fe4de7c",
   "metadata": {},
   "source": [
    "## Step 5: Remove the hyperlink URL in the search_result using a regular expression."
   ]
  },
  {
   "cell_type": "markdown",
   "id": "91f221ba",
   "metadata": {},
   "source": [
    "Next we will remove the hyperlink URL using regex and replace it with an empty string."
   ]
  },
  {
   "cell_type": "code",
   "execution_count": 9,
   "id": "c2c94390",
   "metadata": {},
   "outputs": [
    {
     "data": {
      "text/plain": [
       "0     Severe Weather 101: Winter Weather Types A wi...\n",
       "1     Snow Storm Safety Blizzard: Sustained winds o...\n",
       "2     Winter Storms - UCAR Center for Science Educa...\n",
       "3     Winter storm A winter storm is an event in wh...\n",
       "4     Winter Weather Winter storms including blizza...\n",
       "Name: search_result, dtype: object"
      ]
     },
     "execution_count": 9,
     "metadata": {},
     "output_type": "execute_result"
    }
   ],
   "source": [
    "#defining regex pattern\n",
    "#https:// matches https://\n",
    "#\\S+ matches one or more non-whitespace characters which is the domain name after https://\n",
    "url_pattern = r'https://\\S+'\n",
    "\n",
    "#creating empty list to save modified strings\n",
    "mod_col = []\n",
    "\n",
    "#removing pattern\n",
    "for i in range(len(df['search_result'])):\n",
    "    mod_str = re.sub(url_pattern, '', df['search_result'][i])\n",
    "    mod_col.append(mod_str)\n",
    "    \n",
    "#replacing the column values with the modified values \n",
    "df['search_result'] = mod_col\n",
    "\n",
    "#displaying results\n",
    "df['search_result'].head()"
   ]
  },
  {
   "cell_type": "markdown",
   "id": "e4322680",
   "metadata": {},
   "source": [
    "## Step 6: Remove all words containing at most two characters such as \"a\", \"an\", \"in\", \"on\", \"etc\"."
   ]
  },
  {
   "cell_type": "markdown",
   "id": "3bd166fd",
   "metadata": {},
   "source": [
    "Let's clean the columns furthermore by removing \"a\", \"an\", \"in\", \"on\", \"etc\"."
   ]
  },
  {
   "cell_type": "code",
   "execution_count": 10,
   "id": "ffc6aab1",
   "metadata": {},
   "outputs": [
    {
     "data": {
      "text/plain": [
       "0     Severe Weather 101: Winter Weather Types  win...\n",
       "1     Snow Storm Safety Blizzard: Sustained winds  ...\n",
       "2     Winter Storms - UCAR Center for Science Educa...\n",
       "3     Winter storm  winter storm   event  which win...\n",
       "4     Winter Weather Winter storms including blizza...\n",
       "Name: search_result, dtype: object"
      ]
     },
     "execution_count": 10,
     "metadata": {},
     "output_type": "execute_result"
    }
   ],
   "source": [
    "#defining regex pattern\n",
    "#\\b word boundary anchor that ensures matched letters are part of the whole word\n",
    "#[a-zA-Z] character set that matches upper/lowercase letter\n",
    "#{1,2} match either one or two consecutive alphabetic characters\n",
    "\n",
    "less_than_2_pattern = r'\\b[a-zA-Z]{1,2}\\b'\n",
    "\n",
    "#creating empty list to save modified strings\n",
    "mod_col = []\n",
    "\n",
    "#removing pattern\n",
    "for i in range(len(df['search_result'])):\n",
    "    mod_str = re.sub(less_than_2_pattern, '', df['search_result'][i])\n",
    "    mod_col.append(mod_str)\n",
    "    \n",
    "#replacing the column values with the modified values \n",
    "df['search_result'] = mod_col\n",
    "\n",
    "#displaying results\n",
    "df['search_result'].head()"
   ]
  },
  {
   "cell_type": "markdown",
   "id": "3cc3ac10",
   "metadata": {},
   "source": [
    "## Step 7: Remove the following five stop words: \"are\", \"but\", \"very\", \"since\", \"could\" using regular expression."
   ]
  },
  {
   "cell_type": "markdown",
   "id": "89aaf236",
   "metadata": {},
   "source": [
    "Next, we will remove the five words mentioned above."
   ]
  },
  {
   "cell_type": "code",
   "execution_count": 11,
   "id": "6a7f9c05",
   "metadata": {},
   "outputs": [
    {
     "data": {
      "text/plain": [
       "0     Severe Weather 101: Winter Weather Types  win...\n",
       "1     Snow Storm Safety Blizzard: Sustained winds  ...\n",
       "2     Winter Storms - UCAR Center for Science Educa...\n",
       "3     Winter storm  winter storm   event  which win...\n",
       "4     Winter Weather Winter storms including blizza...\n",
       "Name: search_result, dtype: object"
      ]
     },
     "execution_count": 11,
     "metadata": {},
     "output_type": "execute_result"
    }
   ],
   "source": [
    "#defining regex pattern\n",
    "#\\b word boundary anchor that ensures matched letters are part of the whole word\n",
    "#(?: ... ) non-capturing group that groups list of words together\n",
    "# | acts as OR operator\n",
    "\n",
    "stop_words_pattern = r'\\b(?:are|but|very|since|could)\\b'\n",
    "\n",
    "#creating empty list to save modified strings\n",
    "mod_col = []\n",
    "\n",
    "#removing pattern\n",
    "for i in range(len(df['search_result'])):\n",
    "    mod_str = re.sub(stop_words_pattern, '', df['search_result'][i])\n",
    "    mod_col.append(mod_str)\n",
    "    \n",
    "#replacing the column values with the modified values \n",
    "df['search_result'] = mod_col\n",
    "\n",
    "#displaying results\n",
    "df['search_result'].head()"
   ]
  },
  {
   "cell_type": "markdown",
   "id": "f50e4f44",
   "metadata": {},
   "source": [
    "## Step 8: Remove all special characters, punctuation using a regular expression."
   ]
  },
  {
   "cell_type": "markdown",
   "id": "3c0e85a9",
   "metadata": {},
   "source": [
    "Finally, we will remove all special characters and punctutation."
   ]
  },
  {
   "cell_type": "code",
   "execution_count": 12,
   "id": "a8b4303e",
   "metadata": {},
   "outputs": [
    {
     "data": {
      "text/plain": [
       "0     Severe Weather 101 Winter Weather Types  wint...\n",
       "1     Snow Storm Safety Blizzard Sustained winds  f...\n",
       "2     Winter Storms  UCAR Center for Science Educat...\n",
       "3     Winter storm  winter storm   event  which win...\n",
       "4     Winter Weather Winter storms including blizza...\n",
       "Name: search_result, dtype: object"
      ]
     },
     "execution_count": 12,
     "metadata": {},
     "output_type": "execute_result"
    }
   ],
   "source": [
    "#defining regex pattern\n",
    "#^ negates the character set\n",
    "#a-zA-Z0-9 matches any uppercase letter (A-Z), lowercase letter (a-z), or digit (0-9)\n",
    "#\\s matches white space\n",
    "special_pattern = r'[^a-zA-Z0-9\\s]'\n",
    "\n",
    "\n",
    "#creating empty list to save modified strings\n",
    "mod_col = []\n",
    "\n",
    "#removing pattern\n",
    "for i in range(len(df['search_result'])):\n",
    "    mod_str = re.sub(special_pattern, '', df['search_result'][i])\n",
    "    mod_col.append(mod_str)\n",
    "    \n",
    "#replacing the column values with the modified values \n",
    "df['search_result'] = mod_col\n",
    "\n",
    "#displaying results\n",
    "df['search_result'].head()"
   ]
  },
  {
   "cell_type": "markdown",
   "id": "0d1a22e5",
   "metadata": {},
   "source": [
    "## Summary "
   ]
  },
  {
   "cell_type": "markdown",
   "id": "6a0668c6",
   "metadata": {},
   "source": [
    "Let's look at our search_result column before and after modifications."
   ]
  },
  {
   "cell_type": "code",
   "execution_count": 13,
   "id": "69d50bd2",
   "metadata": {},
   "outputs": [
    {
     "data": {
      "text/html": [
       "<div>\n",
       "<style scoped>\n",
       "    .dataframe tbody tr th:only-of-type {\n",
       "        vertical-align: middle;\n",
       "    }\n",
       "\n",
       "    .dataframe tbody tr th {\n",
       "        vertical-align: top;\n",
       "    }\n",
       "\n",
       "    .dataframe thead th {\n",
       "        text-align: right;\n",
       "    }\n",
       "</style>\n",
       "<table border=\"1\" class=\"dataframe\">\n",
       "  <thead>\n",
       "    <tr style=\"text-align: right;\">\n",
       "      <th></th>\n",
       "      <th>Before</th>\n",
       "      <th>After</th>\n",
       "    </tr>\n",
       "  </thead>\n",
       "  <tbody>\n",
       "    <tr>\n",
       "      <th>0</th>\n",
       "      <td>https://www.nssl.noaa.gov/education/svrwx101/w...</td>\n",
       "      <td>Severe Weather 101 Winter Weather Types  wint...</td>\n",
       "    </tr>\n",
       "    <tr>\n",
       "      <th>1</th>\n",
       "      <td>https://www.weather.gov/safety/winter-snow Sno...</td>\n",
       "      <td>Snow Storm Safety Blizzard Sustained winds  f...</td>\n",
       "    </tr>\n",
       "    <tr>\n",
       "      <th>2</th>\n",
       "      <td>https://scied.ucar.edu/learning-zone/storms/wi...</td>\n",
       "      <td>Winter Storms  UCAR Center for Science Educat...</td>\n",
       "    </tr>\n",
       "    <tr>\n",
       "      <th>3</th>\n",
       "      <td>https://en.wikipedia.org/wiki/Winter_storm Win...</td>\n",
       "      <td>Winter storm  winter storm   event  which win...</td>\n",
       "    </tr>\n",
       "    <tr>\n",
       "      <th>4</th>\n",
       "      <td>https://www.ready.gov/winter-weather Winter We...</td>\n",
       "      <td>Winter Weather Winter storms including blizza...</td>\n",
       "    </tr>\n",
       "    <tr>\n",
       "      <th>...</th>\n",
       "      <td>...</td>\n",
       "      <td>...</td>\n",
       "    </tr>\n",
       "    <tr>\n",
       "      <th>94</th>\n",
       "      <td>https://www.motortrend.com/reviews/2022-rivian...</td>\n",
       "      <td>Rivian R1T Yearlong Review Winter Snowstorms ...</td>\n",
       "    </tr>\n",
       "    <tr>\n",
       "      <th>95</th>\n",
       "      <td>https://thebrownandwhite.com/2018/03/07/snowst...</td>\n",
       "      <td>Lehigh closes for third winter snowstorm   Th...</td>\n",
       "    </tr>\n",
       "    <tr>\n",
       "      <th>96</th>\n",
       "      <td>https://espo.nasa.gov/impacts/content/IMPACTS ...</td>\n",
       "      <td>IMPACTS  ESPO  NASA Winter snowstorms  freque...</td>\n",
       "    </tr>\n",
       "    <tr>\n",
       "      <th>97</th>\n",
       "      <td>https://www.kansas.com/news/local/article27033...</td>\n",
       "      <td>Here  how the rare winter snowstorm affected ...</td>\n",
       "    </tr>\n",
       "    <tr>\n",
       "      <th>98</th>\n",
       "      <td>https://modernsurvivalblog.com/natural-disaste...</td>\n",
       "      <td>Preparing for  Winter Snowstorm  Basic Suppli...</td>\n",
       "    </tr>\n",
       "  </tbody>\n",
       "</table>\n",
       "<p>99 rows × 2 columns</p>\n",
       "</div>"
      ],
      "text/plain": [
       "                                               Before  \\\n",
       "0   https://www.nssl.noaa.gov/education/svrwx101/w...   \n",
       "1   https://www.weather.gov/safety/winter-snow Sno...   \n",
       "2   https://scied.ucar.edu/learning-zone/storms/wi...   \n",
       "3   https://en.wikipedia.org/wiki/Winter_storm Win...   \n",
       "4   https://www.ready.gov/winter-weather Winter We...   \n",
       "..                                                ...   \n",
       "94  https://www.motortrend.com/reviews/2022-rivian...   \n",
       "95  https://thebrownandwhite.com/2018/03/07/snowst...   \n",
       "96  https://espo.nasa.gov/impacts/content/IMPACTS ...   \n",
       "97  https://www.kansas.com/news/local/article27033...   \n",
       "98  https://modernsurvivalblog.com/natural-disaste...   \n",
       "\n",
       "                                                After  \n",
       "0    Severe Weather 101 Winter Weather Types  wint...  \n",
       "1    Snow Storm Safety Blizzard Sustained winds  f...  \n",
       "2    Winter Storms  UCAR Center for Science Educat...  \n",
       "3    Winter storm  winter storm   event  which win...  \n",
       "4    Winter Weather Winter storms including blizza...  \n",
       "..                                                ...  \n",
       "94   Rivian R1T Yearlong Review Winter Snowstorms ...  \n",
       "95   Lehigh closes for third winter snowstorm   Th...  \n",
       "96   IMPACTS  ESPO  NASA Winter snowstorms  freque...  \n",
       "97   Here  how the rare winter snowstorm affected ...  \n",
       "98   Preparing for  Winter Snowstorm  Basic Suppli...  \n",
       "\n",
       "[99 rows x 2 columns]"
      ]
     },
     "execution_count": 13,
     "metadata": {},
     "output_type": "execute_result"
    }
   ],
   "source": [
    "#creating data for dataframe\n",
    "data = {'Before': search_result_before.values, \n",
    "        'After': df['search_result'].values}\n",
    "\n",
    "#creating and displaying dataframe\n",
    "df_comparison = pd.DataFrame(data)\n",
    "df_comparison"
   ]
  }
 ],
 "metadata": {
  "kernelspec": {
   "display_name": "Python 3 (ipykernel)",
   "language": "python",
   "name": "python3"
  },
  "language_info": {
   "codemirror_mode": {
    "name": "ipython",
    "version": 3
   },
   "file_extension": ".py",
   "mimetype": "text/x-python",
   "name": "python",
   "nbconvert_exporter": "python",
   "pygments_lexer": "ipython3",
   "version": "3.11.4"
  }
 },
 "nbformat": 4,
 "nbformat_minor": 5
}
